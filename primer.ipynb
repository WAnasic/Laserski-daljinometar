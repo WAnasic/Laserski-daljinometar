{
 "cells": [
  {
   "cell_type": "code",
   "execution_count": 18,
   "metadata": {},
   "outputs": [],
   "source": [
    "import numpy as np\n",
    "import matplotlib.pyplot as plt\n",
    "import cv2\n",
    "import os\n",
    "\n",
    "def load(folder):\n",
    "    images = []\n",
    "    for filename in os.listdir(folder):\n",
    "        img = cv2.imread(os.path.join(folder,filename))\n",
    "        img = cv2.cvtColor(img, cv2.COLOR_BGR2GRAY)\n",
    "        if img is not None:\n",
    "            images.append(img)\n",
    "    return images\n",
    "data = load('./slike')\n",
    "img = data[0]\n",
    "BOARD_SIZE = (5, 7)\n",
    "\n",
    "library_corners = []\n",
    "library_positions = []\n",
    "broj=21\n",
    "\n",
    "for i in range(broj):\n",
    "    criteria = (cv2.TERM_CRITERIA_EPS + cv2.TERM_CRITERIA_MAX_ITER, 30, 0.001)\n",
    "    objp = np.zeros((7*5,3), np.float32)\n",
    "    objp[:,:2] = np.mgrid[0:5,0:7].T.reshape(-1,2)\n",
    "    \n",
    "    objpoints = [] \n",
    "    imgpoints = [] \n",
    "    \n",
    "    gray = data[i].copy()\n",
    "    img = cv2.cvtColor(gray, cv2.COLOR_GRAY2BGR)\n",
    "    ret, corners = cv2.findChessboardCorners(gray, (5, 7), None)\n",
    "\n",
    "    if ret == True:\n",
    "        objpoints.append(objp)\n",
    "        corners2 = cv2.cornerSubPix(gray,corners, (11,11), (-1,-1), criteria)\n",
    "        imgpoints.append(corners2)\n",
    "        \n",
    "    library_corners.append(imgpoints)\n",
    "    library_positions.append(objpoints)\n",
    "    res = cv2.drawChessboardCorners(img, (5,7), corners2, ret)\n",
    "    cv2.imwrite(\"./results/resenje\" + str(i+1) + \".png\", res)\n",
    "\n"
   ]
  }
 ],
 "metadata": {
  "kernelspec": {
   "display_name": "Python 3",
   "language": "python",
   "name": "python3"
  },
  "language_info": {
   "codemirror_mode": {
    "name": "ipython",
    "version": 3
   },
   "file_extension": ".py",
   "mimetype": "text/x-python",
   "name": "python",
   "nbconvert_exporter": "python",
   "pygments_lexer": "ipython3",
   "version": "3.11.9"
  }
 },
 "nbformat": 4,
 "nbformat_minor": 2
}
